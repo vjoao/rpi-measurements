{
 "cells": [
  {
   "cell_type": "code",
   "execution_count": 42,
   "metadata": {
    "collapsed": true,
    "scrolled": false
   },
   "outputs": [],
   "source": [
    "%matplotlib inline\n",
    "import matplotlib.pyplot as plt\n",
    "import numpy as np\n",
    "import pandas as pd\n",
    "import seaborn as sns\n",
    "sns.set()"
   ]
  },
  {
   "cell_type": "code",
   "execution_count": 47,
   "metadata": {},
   "outputs": [],
   "source": [
    "resolutions = {\n",
    "    480: '640x480',\n",
    "    720: '1280x720',\n",
    "    1080: '1920x1080',\n",
    "    1944: '2592x1944',\n",
    "}\n",
    "\n",
    "datasets = []\n",
    "\n",
    "def energy (time, power):\n",
    "    return power * (time / 1000 / 3600);\n",
    "\n",
    "for res in [480, 720, 1080, 1944]:\n",
    "    for enc in ['png', 'jpeg', 'yuv']:\n",
    "        dataset = pd.read_csv('img' + str(res) + enc + '.csv')\n",
    "        time = dataset.time.max()\n",
    "        \n",
    "        dataset['energy'] = dataset.apply(lambda row: energy(time, row.power), axis=1)\n",
    "        dataset['enc'] = enc\n",
    "        dataset['res'] = resolutions[res]\n",
    "        datasets.append(dataset)"
   ]
  },
  {
   "cell_type": "code",
   "execution_count": 48,
   "metadata": {},
   "outputs": [],
   "source": [
    "master = pd.concat(datasets)"
   ]
  },
  {
   "cell_type": "code",
   "execution_count": 49,
   "metadata": {},
   "outputs": [
    {
     "data": {
      "text/html": [
       "<div>\n",
       "<style scoped>\n",
       "    .dataframe tbody tr th:only-of-type {\n",
       "        vertical-align: middle;\n",
       "    }\n",
       "\n",
       "    .dataframe tbody tr th {\n",
       "        vertical-align: top;\n",
       "    }\n",
       "\n",
       "    .dataframe thead th {\n",
       "        text-align: right;\n",
       "    }\n",
       "</style>\n",
       "<table border=\"1\" class=\"dataframe\">\n",
       "  <thead>\n",
       "    <tr style=\"text-align: right;\">\n",
       "      <th></th>\n",
       "      <th>power</th>\n",
       "      <th>time</th>\n",
       "      <th>energy</th>\n",
       "      <th>enc</th>\n",
       "      <th>res</th>\n",
       "    </tr>\n",
       "  </thead>\n",
       "  <tbody>\n",
       "    <tr>\n",
       "      <th>0</th>\n",
       "      <td>1.556</td>\n",
       "      <td>4</td>\n",
       "      <td>0.010971</td>\n",
       "      <td>png</td>\n",
       "      <td>640x480</td>\n",
       "    </tr>\n",
       "    <tr>\n",
       "      <th>1</th>\n",
       "      <td>1.546</td>\n",
       "      <td>24</td>\n",
       "      <td>0.010900</td>\n",
       "      <td>png</td>\n",
       "      <td>640x480</td>\n",
       "    </tr>\n",
       "    <tr>\n",
       "      <th>2</th>\n",
       "      <td>1.344</td>\n",
       "      <td>91</td>\n",
       "      <td>0.009476</td>\n",
       "      <td>png</td>\n",
       "      <td>640x480</td>\n",
       "    </tr>\n",
       "    <tr>\n",
       "      <th>3</th>\n",
       "      <td>1.462</td>\n",
       "      <td>156</td>\n",
       "      <td>0.010308</td>\n",
       "      <td>png</td>\n",
       "      <td>640x480</td>\n",
       "    </tr>\n",
       "    <tr>\n",
       "      <th>4</th>\n",
       "      <td>1.636</td>\n",
       "      <td>223</td>\n",
       "      <td>0.011535</td>\n",
       "      <td>png</td>\n",
       "      <td>640x480</td>\n",
       "    </tr>\n",
       "  </tbody>\n",
       "</table>\n",
       "</div>"
      ],
      "text/plain": [
       "   power  time    energy  enc      res\n",
       "0  1.556     4  0.010971  png  640x480\n",
       "1  1.546    24  0.010900  png  640x480\n",
       "2  1.344    91  0.009476  png  640x480\n",
       "3  1.462   156  0.010308  png  640x480\n",
       "4  1.636   223  0.011535  png  640x480"
      ]
     },
     "execution_count": 49,
     "metadata": {},
     "output_type": "execute_result"
    }
   ],
   "source": [
    "master.head()"
   ]
  },
  {
   "cell_type": "code",
   "execution_count": 50,
   "metadata": {
    "scrolled": false
   },
   "outputs": [
    {
     "data": {
      "image/png": "[encoded data removed]",
      "text/plain": [
       "<matplotlib.figure.Figure at 0x7f0e196b8d30>"
      ]
     },
     "metadata": {},
     "output_type": "display_data"
    }
   ],
   "source": [
    "# plt.hist(df.power, bins=5, color=sns.desaturate(\"green\", 1))\n",
    "# sns.boxplot(df.power)\n",
    "plt.figure(figsize=(14, 7))\n",
    "\n",
    "plot = sns.barplot(data=master, hue='enc', x='res', y='energy')\n",
    "\n",
    "# plot = sns.kdeplot(df.power, shade=True)\n",
    "plot.set_xlabel('Resolução (pixels)')\n",
    "plot.set_ylabel('Consumo energético (Wh)')\n",
    "plot.legend_.set_title('Codificação')\n",
    "\n",
    "# sns.violinplot(df.current)\n",
    "# sns.kdeplot(df.power, df.current, cmap=sns.cubehelix_palette(light=1, as_cmap=True))"
   ]
  },
  {
   "cell_type": "code",
   "execution_count": null,
   "metadata": {
    "collapsed": true
   },
   "outputs": [],
   "source": []
  }
 ],
 "metadata": {
  "kernelspec": {
   "display_name": "Python 3",
   "language": "python",
   "name": "python3"
  },
  "language_info": {
   "codemirror_mode": {
    "name": "ipython",
    "version": 3
   },
   "file_extension": ".py",
   "mimetype": "text/x-python",
   "name": "python",
   "nbconvert_exporter": "python",
   "pygments_lexer": "ipython3",
   "version": "3.6.3"
  }
 },
 "nbformat": 4,
 "nbformat_minor": 2
}
